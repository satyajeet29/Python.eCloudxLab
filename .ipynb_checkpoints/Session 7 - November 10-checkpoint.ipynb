{
 "cells": [
  {
   "cell_type": "markdown",
   "metadata": {},
   "source": [
    "# NumPy"
   ]
  },
  {
   "cell_type": "code",
   "execution_count": 2,
   "metadata": {},
   "outputs": [],
   "source": [
    "import numpy as np"
   ]
  },
  {
   "cell_type": "code",
   "execution_count": 2,
   "metadata": {},
   "outputs": [
    {
     "data": {
      "text/plain": [
       "array([1, 2, 3])"
      ]
     },
     "execution_count": 2,
     "metadata": {},
     "output_type": "execute_result"
    }
   ],
   "source": [
    "a = np.array([1,2,3])\n",
    "a"
   ]
  },
  {
   "cell_type": "code",
   "execution_count": 3,
   "metadata": {},
   "outputs": [
    {
     "data": {
      "text/plain": [
       "1"
      ]
     },
     "execution_count": 3,
     "metadata": {},
     "output_type": "execute_result"
    }
   ],
   "source": [
    "a.ndim"
   ]
  },
  {
   "cell_type": "code",
   "execution_count": 4,
   "metadata": {},
   "outputs": [
    {
     "data": {
      "text/plain": [
       "numpy.ndarray"
      ]
     },
     "execution_count": 4,
     "metadata": {},
     "output_type": "execute_result"
    }
   ],
   "source": [
    "type(a)"
   ]
  },
  {
   "cell_type": "code",
   "execution_count": 5,
   "metadata": {},
   "outputs": [],
   "source": [
    "b = np.array((3,4,5))"
   ]
  },
  {
   "cell_type": "code",
   "execution_count": 6,
   "metadata": {},
   "outputs": [
    {
     "data": {
      "text/plain": [
       "array([3, 4, 5])"
      ]
     },
     "execution_count": 6,
     "metadata": {},
     "output_type": "execute_result"
    }
   ],
   "source": [
    "b"
   ]
  },
  {
   "cell_type": "code",
   "execution_count": 7,
   "metadata": {},
   "outputs": [
    {
     "data": {
      "text/plain": [
       "numpy.ndarray"
      ]
     },
     "execution_count": 7,
     "metadata": {},
     "output_type": "execute_result"
    }
   ],
   "source": [
    "type(b)"
   ]
  },
  {
   "cell_type": "code",
   "execution_count": 8,
   "metadata": {},
   "outputs": [
    {
     "name": "stdout",
     "output_type": "stream",
     "text": [
      "[[[0. 0. 0. 0.]\n",
      "  [0. 0. 0. 0.]\n",
      "  [0. 0. 0. 0.]]\n",
      "\n",
      " [[0. 0. 0. 0.]\n",
      "  [0. 0. 0. 0.]\n",
      "  [0. 0. 0. 0.]]]\n"
     ]
    }
   ],
   "source": [
    "# Three dimensional array\n",
    "x = np.zeros((2,3,4))\n",
    "print(x)"
   ]
  },
  {
   "cell_type": "code",
   "execution_count": 9,
   "metadata": {},
   "outputs": [
    {
     "data": {
      "text/plain": [
       "(2, 3, 4)"
      ]
     },
     "execution_count": 9,
     "metadata": {},
     "output_type": "execute_result"
    }
   ],
   "source": [
    "x.shape"
   ]
  },
  {
   "cell_type": "code",
   "execution_count": 10,
   "metadata": {},
   "outputs": [],
   "source": [
    "y = np.ones((3,4), dtype=np.float64)"
   ]
  },
  {
   "cell_type": "code",
   "execution_count": 11,
   "metadata": {},
   "outputs": [
    {
     "name": "stdout",
     "output_type": "stream",
     "text": [
      "[[1. 1. 1. 1.]\n",
      " [1. 1. 1. 1.]\n",
      " [1. 1. 1. 1.]]\n"
     ]
    }
   ],
   "source": [
    "print(y)"
   ]
  },
  {
   "cell_type": "code",
   "execution_count": 12,
   "metadata": {},
   "outputs": [
    {
     "name": "stdout",
     "output_type": "stream",
     "text": [
      "float64\n"
     ]
    }
   ],
   "source": [
    "print(x.dtype)"
   ]
  },
  {
   "cell_type": "code",
   "execution_count": 13,
   "metadata": {},
   "outputs": [
    {
     "name": "stdout",
     "output_type": "stream",
     "text": [
      "float64\n"
     ]
    }
   ],
   "source": [
    "print(y.dtype)"
   ]
  },
  {
   "cell_type": "code",
   "execution_count": 16,
   "metadata": {},
   "outputs": [
    {
     "data": {
      "text/plain": [
       "array([[0.11, 0.11, 0.11, 0.11],\n",
       "       [0.11, 0.11, 0.11, 0.11],\n",
       "       [0.11, 0.11, 0.11, 0.11]])"
      ]
     },
     "execution_count": 16,
     "metadata": {},
     "output_type": "execute_result"
    }
   ],
   "source": [
    "np.full((3,4), 0.11)"
   ]
  },
  {
   "cell_type": "code",
   "execution_count": 17,
   "metadata": {},
   "outputs": [
    {
     "data": {
      "text/plain": [
       "array([[3.14159265, 3.14159265, 3.14159265, 3.14159265],\n",
       "       [3.14159265, 3.14159265, 3.14159265, 3.14159265],\n",
       "       [3.14159265, 3.14159265, 3.14159265, 3.14159265]])"
      ]
     },
     "execution_count": 17,
     "metadata": {},
     "output_type": "execute_result"
    }
   ],
   "source": [
    "np.full((3,4), np.pi)"
   ]
  },
  {
   "cell_type": "code",
   "execution_count": 20,
   "metadata": {},
   "outputs": [
    {
     "data": {
      "text/plain": [
       "array([10, 12, 14, 16, 18, 20, 22, 24, 26, 28])"
      ]
     },
     "execution_count": 20,
     "metadata": {},
     "output_type": "execute_result"
    }
   ],
   "source": [
    "np.arange(10,30,2) # Creates an array with step 2 increment"
   ]
  },
  {
   "cell_type": "code",
   "execution_count": 24,
   "metadata": {},
   "outputs": [
    {
     "name": "stdout",
     "output_type": "stream",
     "text": [
      "The slowest run took 6.27 times longer than the fastest. This could mean that an intermediate result is being cached.\n",
      "1000 loops, best of 3: 581 µs per loop\n"
     ]
    }
   ],
   "source": [
    "%timeit np.arange(1,100,0.0001) # %timeit to record time taken for operation"
   ]
  },
  {
   "cell_type": "code",
   "execution_count": 25,
   "metadata": {},
   "outputs": [
    {
     "data": {
      "text/plain": [
       "(990000,)"
      ]
     },
     "execution_count": 25,
     "metadata": {},
     "output_type": "execute_result"
    }
   ],
   "source": [
    "np.arange(1,100,0.0001).shape"
   ]
  },
  {
   "cell_type": "code",
   "execution_count": 33,
   "metadata": {},
   "outputs": [
    {
     "name": "stdout",
     "output_type": "stream",
     "text": [
      "[[[0.11 0.11 0.11 0.11]\n",
      "  [0.11 0.11 0.11 0.11]\n",
      "  [0.11 0.11 0.11 0.11]]\n",
      "\n",
      " [[0.11 0.11 0.11 0.11]\n",
      "  [0.11 0.11 0.11 0.11]\n",
      "  [0.11 0.11 0.11 0.11]]]\n"
     ]
    }
   ],
   "source": [
    "three_d_array = np.full((2,3,4),0.11)\n",
    "print(three_d_array)"
   ]
  },
  {
   "cell_type": "code",
   "execution_count": 27,
   "metadata": {},
   "outputs": [
    {
     "name": "stdout",
     "output_type": "stream",
     "text": [
      "24\n",
      "(2, 3, 4)\n"
     ]
    }
   ],
   "source": [
    "print(three_d_array.size)\n",
    "print(three_d_array.shape)"
   ]
  },
  {
   "cell_type": "code",
   "execution_count": 30,
   "metadata": {},
   "outputs": [
    {
     "data": {
      "text/plain": [
       "array([[0.11, 0.11, 0.11, 0.11, 0.11, 0.11],\n",
       "       [0.11, 0.11, 0.11, 0.11, 0.11, 0.11],\n",
       "       [0.11, 0.11, 0.11, 0.11, 0.11, 0.11],\n",
       "       [0.11, 0.11, 0.11, 0.11, 0.11, 0.11]])"
      ]
     },
     "execution_count": 30,
     "metadata": {},
     "output_type": "execute_result"
    }
   ],
   "source": [
    "three_d_array.reshape(4,6)"
   ]
  },
  {
   "cell_type": "code",
   "execution_count": 31,
   "metadata": {},
   "outputs": [
    {
     "name": "stdout",
     "output_type": "stream",
     "text": [
      "24\n",
      "(2, 3, 4)\n"
     ]
    }
   ],
   "source": [
    "print(three_d_array.size)\n",
    "print(three_d_array.shape)"
   ]
  },
  {
   "cell_type": "code",
   "execution_count": 34,
   "metadata": {},
   "outputs": [
    {
     "data": {
      "text/plain": [
       "array([ 0.,  5., 10.])"
      ]
     },
     "execution_count": 34,
     "metadata": {},
     "output_type": "execute_result"
    }
   ],
   "source": [
    "np.linspace(0,10,3)"
   ]
  },
  {
   "cell_type": "code",
   "execution_count": 35,
   "metadata": {},
   "outputs": [
    {
     "name": "stdout",
     "output_type": "stream",
     "text": [
      "Help on function linspace in module numpy.core.function_base:\n",
      "\n",
      "linspace(start, stop, num=50, endpoint=True, retstep=False, dtype=None)\n",
      "    Return evenly spaced numbers over a specified interval.\n",
      "    \n",
      "    Returns `num` evenly spaced samples, calculated over the\n",
      "    interval [`start`, `stop`].\n",
      "    \n",
      "    The endpoint of the interval can optionally be excluded.\n",
      "    \n",
      "    Parameters\n",
      "    ----------\n",
      "    start : scalar\n",
      "        The starting value of the sequence.\n",
      "    stop : scalar\n",
      "        The end value of the sequence, unless `endpoint` is set to False.\n",
      "        In that case, the sequence consists of all but the last of ``num + 1``\n",
      "        evenly spaced samples, so that `stop` is excluded.  Note that the step\n",
      "        size changes when `endpoint` is False.\n",
      "    num : int, optional\n",
      "        Number of samples to generate. Default is 50. Must be non-negative.\n",
      "    endpoint : bool, optional\n",
      "        If True, `stop` is the last sample. Otherwise, it is not included.\n",
      "        Default is True.\n",
      "    retstep : bool, optional\n",
      "        If True, return (`samples`, `step`), where `step` is the spacing\n",
      "        between samples.\n",
      "    dtype : dtype, optional\n",
      "        The type of the output array.  If `dtype` is not given, infer the data\n",
      "        type from the other input arguments.\n",
      "    \n",
      "        .. versionadded:: 1.9.0\n",
      "    \n",
      "    Returns\n",
      "    -------\n",
      "    samples : ndarray\n",
      "        There are `num` equally spaced samples in the closed interval\n",
      "        ``[start, stop]`` or the half-open interval ``[start, stop)``\n",
      "        (depending on whether `endpoint` is True or False).\n",
      "    step : float, optional\n",
      "        Only returned if `retstep` is True\n",
      "    \n",
      "        Size of spacing between samples.\n",
      "    \n",
      "    \n",
      "    See Also\n",
      "    --------\n",
      "    arange : Similar to `linspace`, but uses a step size (instead of the\n",
      "             number of samples).\n",
      "    logspace : Samples uniformly distributed in log space.\n",
      "    \n",
      "    Examples\n",
      "    --------\n",
      "    >>> np.linspace(2.0, 3.0, num=5)\n",
      "    array([ 2.  ,  2.25,  2.5 ,  2.75,  3.  ])\n",
      "    >>> np.linspace(2.0, 3.0, num=5, endpoint=False)\n",
      "    array([ 2. ,  2.2,  2.4,  2.6,  2.8])\n",
      "    >>> np.linspace(2.0, 3.0, num=5, retstep=True)\n",
      "    (array([ 2.  ,  2.25,  2.5 ,  2.75,  3.  ]), 0.25)\n",
      "    \n",
      "    Graphical illustration:\n",
      "    \n",
      "    >>> import matplotlib.pyplot as plt\n",
      "    >>> N = 8\n",
      "    >>> y = np.zeros(N)\n",
      "    >>> x1 = np.linspace(0, 10, N, endpoint=True)\n",
      "    >>> x2 = np.linspace(0, 10, N, endpoint=False)\n",
      "    >>> plt.plot(x1, y, 'o')\n",
      "    [<matplotlib.lines.Line2D object at 0x...>]\n",
      "    >>> plt.plot(x2, y + 0.5, 'o')\n",
      "    [<matplotlib.lines.Line2D object at 0x...>]\n",
      "    >>> plt.ylim([-0.5, 1])\n",
      "    (-0.5, 1)\n",
      "    >>> plt.show()\n",
      "\n"
     ]
    }
   ],
   "source": [
    "help(np.linspace)"
   ]
  },
  {
   "cell_type": "code",
   "execution_count": 41,
   "metadata": {},
   "outputs": [
    {
     "name": "stdout",
     "output_type": "stream",
     "text": [
      "[[0.16763264 0.42135918 0.90015023]\n",
      " [0.76085709 0.78110816 0.7181189 ]]\n"
     ]
    }
   ],
   "source": [
    "x = np.random.rand(2,3)\n",
    "print(x)"
   ]
  },
  {
   "cell_type": "code",
   "execution_count": 42,
   "metadata": {},
   "outputs": [
    {
     "data": {
      "text/plain": [
       "array([[2.50869377, 4.79223259, 9.10135208],\n",
       "       [7.84771383, 8.02997344, 7.46307011]])"
      ]
     },
     "execution_count": 42,
     "metadata": {},
     "output_type": "execute_result"
    }
   ],
   "source": [
    "x*9 + 1"
   ]
  },
  {
   "cell_type": "code",
   "execution_count": 43,
   "metadata": {},
   "outputs": [
    {
     "data": {
      "text/plain": [
       "5"
      ]
     },
     "execution_count": 43,
     "metadata": {},
     "output_type": "execute_result"
    }
   ],
   "source": [
    "a = np.array([1,5,3,19,13,7,3])\n",
    "a[1]"
   ]
  },
  {
   "cell_type": "code",
   "execution_count": 44,
   "metadata": {},
   "outputs": [
    {
     "data": {
      "text/plain": [
       "array([ 3, 19, 13])"
      ]
     },
     "execution_count": 44,
     "metadata": {},
     "output_type": "execute_result"
    }
   ],
   "source": [
    "a[2:5]"
   ]
  },
  {
   "cell_type": "code",
   "execution_count": 45,
   "metadata": {},
   "outputs": [
    {
     "data": {
      "text/plain": [
       "array([ 1,  3, 13,  3])"
      ]
     },
     "execution_count": 45,
     "metadata": {},
     "output_type": "execute_result"
    }
   ],
   "source": [
    "a[:10:2]"
   ]
  },
  {
   "cell_type": "code",
   "execution_count": 3,
   "metadata": {},
   "outputs": [
    {
     "data": {
      "text/plain": [
       "array([0. , 0.2, 0.4, 0.6, 0.8, 1. ])"
      ]
     },
     "execution_count": 3,
     "metadata": {},
     "output_type": "execute_result"
    }
   ],
   "source": [
    "np.linspace(0, 5/3,6)"
   ]
  },
  {
   "cell_type": "code",
   "execution_count": 6,
   "metadata": {},
   "outputs": [
    {
     "data": {
      "text/plain": [
       "array([0. , 0.2, 0.4])"
      ]
     },
     "execution_count": 6,
     "metadata": {},
     "output_type": "execute_result"
    }
   ],
   "source": [
    "x = np.empty((2,3))\n",
    "x\n",
    "x[0]"
   ]
  },
  {
   "cell_type": "code",
   "execution_count": 7,
   "metadata": {},
   "outputs": [
    {
     "data": {
      "text/plain": [
       "array([0. , 0.2, 0.4, 0.6, 0.8, 1. ])"
      ]
     },
     "execution_count": 7,
     "metadata": {},
     "output_type": "execute_result"
    }
   ],
   "source": [
    "x.reshape(-1)"
   ]
  },
  {
   "cell_type": "code",
   "execution_count": 12,
   "metadata": {},
   "outputs": [],
   "source": [
    "a =  np.random.rand(2,4)"
   ]
  },
  {
   "cell_type": "code",
   "execution_count": 9,
   "metadata": {},
   "outputs": [
    {
     "data": {
      "text/plain": [
       "array([[0.3883424 , 0.41776192, 0.22755823, 0.90365506],\n",
       "       [0.76703378, 0.56161479, 0.17995182, 0.01980827]])"
      ]
     },
     "execution_count": 9,
     "metadata": {},
     "output_type": "execute_result"
    }
   ],
   "source": [
    "a"
   ]
  },
  {
   "cell_type": "code",
   "execution_count": 13,
   "metadata": {},
   "outputs": [
    {
     "data": {
      "text/plain": [
       "array([[5.63392509, 4.38063418, 2.35140646, 7.7190807 ],\n",
       "       [7.517803  , 5.46038846, 3.06875987, 4.25278571]])"
      ]
     },
     "execution_count": 13,
     "metadata": {},
     "output_type": "execute_result"
    }
   ],
   "source": [
    "a*10"
   ]
  },
  {
   "cell_type": "code",
   "execution_count": 15,
   "metadata": {},
   "outputs": [],
   "source": [
    "np.RAISE?"
   ]
  },
  {
   "cell_type": "code",
   "execution_count": 16,
   "metadata": {},
   "outputs": [
    {
     "data": {
      "text/plain": [
       "{'In': ['',\n",
       "  u'np.linspace(0, 5/3,6)',\n",
       "  u'import numpy as np',\n",
       "  u'np.linspace(0, 5/3,6)',\n",
       "  u'x = np.empty(2,3)\\nx',\n",
       "  u'x = np.empty((2,3))\\nx',\n",
       "  u'x = np.empty((2,3))\\nx\\nx[0]',\n",
       "  u'x.reshape(-1)',\n",
       "  u'a =  np.random.rand(2,4)',\n",
       "  u'a',\n",
       "  u'a.multiply(10)',\n",
       "  u'a*2',\n",
       "  u'a =  np.random.rand(2,4)',\n",
       "  u'a*10',\n",
       "  u'int(a)',\n",
       "  u\"get_ipython().magic(u'pinfo np.RAISE')\",\n",
       "  u'locals()'],\n",
       " 'Out': {3: array([0. , 0.2, 0.4, 0.6, 0.8, 1. ]), 5: array([[0. , 0.2, 0.4],\n",
       "         [0.6, 0.8, 1. ]]), 6: array([0. , 0.2, 0.4]), 7: array([0. , 0.2, 0.4, 0.6, 0.8, 1. ]), 9: array([[0.3883424 , 0.41776192, 0.22755823, 0.90365506],\n",
       "         [0.76703378, 0.56161479, 0.17995182, 0.01980827]]), 11: array([[0.77668479, 0.83552384, 0.45511646, 1.80731011],\n",
       "         [1.53406756, 1.12322958, 0.35990365, 0.03961654]]), 13: array([[5.63392509, 4.38063418, 2.35140646, 7.7190807 ],\n",
       "         [7.517803  , 5.46038846, 3.06875987, 4.25278571]])},\n",
       " '_': array([[5.63392509, 4.38063418, 2.35140646, 7.7190807 ],\n",
       "        [7.517803  , 5.46038846, 3.06875987, 4.25278571]]),\n",
       " '_11': array([[0.77668479, 0.83552384, 0.45511646, 1.80731011],\n",
       "        [1.53406756, 1.12322958, 0.35990365, 0.03961654]]),\n",
       " '_13': array([[5.63392509, 4.38063418, 2.35140646, 7.7190807 ],\n",
       "        [7.517803  , 5.46038846, 3.06875987, 4.25278571]]),\n",
       " '_3': array([0. , 0.2, 0.4, 0.6, 0.8, 1. ]),\n",
       " '_5': array([[0. , 0.2, 0.4],\n",
       "        [0.6, 0.8, 1. ]]),\n",
       " '_6': array([0. , 0.2, 0.4]),\n",
       " '_7': array([0. , 0.2, 0.4, 0.6, 0.8, 1. ]),\n",
       " '_9': array([[0.3883424 , 0.41776192, 0.22755823, 0.90365506],\n",
       "        [0.76703378, 0.56161479, 0.17995182, 0.01980827]]),\n",
       " '__': array([[0.77668479, 0.83552384, 0.45511646, 1.80731011],\n",
       "        [1.53406756, 1.12322958, 0.35990365, 0.03961654]]),\n",
       " '___': array([[0.3883424 , 0.41776192, 0.22755823, 0.90365506],\n",
       "        [0.76703378, 0.56161479, 0.17995182, 0.01980827]]),\n",
       " '__builtin__': <module '__builtin__' (built-in)>,\n",
       " '__builtins__': <module '__builtin__' (built-in)>,\n",
       " '__doc__': 'Automatically created module for IPython interactive environment',\n",
       " '__name__': '__main__',\n",
       " '__package__': None,\n",
       " '_dh': [u'/Users/satyajeetpradhan/Documents/Python.eCloudxLab'],\n",
       " '_i': u'np.RAISE?',\n",
       " '_i1': u'np.linspace(0, 5/3,6)',\n",
       " '_i10': u'a.multiply(10)',\n",
       " '_i11': u'a*2',\n",
       " '_i12': u'a =  np.random.rand(2,4)',\n",
       " '_i13': u'a*10',\n",
       " '_i14': u'int(a)',\n",
       " '_i15': u'np.RAISE?',\n",
       " '_i16': u'locals()',\n",
       " '_i2': u'import numpy as np',\n",
       " '_i3': u'np.linspace(0, 5/3,6)',\n",
       " '_i4': u'x = np.empty(2,3)\\nx',\n",
       " '_i5': u'x = np.empty((2,3))\\nx',\n",
       " '_i6': u'x = np.empty((2,3))\\nx\\nx[0]',\n",
       " '_i7': u'x.reshape(-1)',\n",
       " '_i8': u'a =  np.random.rand(2,4)',\n",
       " '_i9': u'a',\n",
       " '_ih': ['',\n",
       "  u'np.linspace(0, 5/3,6)',\n",
       "  u'import numpy as np',\n",
       "  u'np.linspace(0, 5/3,6)',\n",
       "  u'x = np.empty(2,3)\\nx',\n",
       "  u'x = np.empty((2,3))\\nx',\n",
       "  u'x = np.empty((2,3))\\nx\\nx[0]',\n",
       "  u'x.reshape(-1)',\n",
       "  u'a =  np.random.rand(2,4)',\n",
       "  u'a',\n",
       "  u'a.multiply(10)',\n",
       "  u'a*2',\n",
       "  u'a =  np.random.rand(2,4)',\n",
       "  u'a*10',\n",
       "  u'int(a)',\n",
       "  u\"get_ipython().magic(u'pinfo np.RAISE')\",\n",
       "  u'locals()'],\n",
       " '_ii': u'int(a)',\n",
       " '_iii': u'a*10',\n",
       " '_oh': {3: array([0. , 0.2, 0.4, 0.6, 0.8, 1. ]), 5: array([[0. , 0.2, 0.4],\n",
       "         [0.6, 0.8, 1. ]]), 6: array([0. , 0.2, 0.4]), 7: array([0. , 0.2, 0.4, 0.6, 0.8, 1. ]), 9: array([[0.3883424 , 0.41776192, 0.22755823, 0.90365506],\n",
       "         [0.76703378, 0.56161479, 0.17995182, 0.01980827]]), 11: array([[0.77668479, 0.83552384, 0.45511646, 1.80731011],\n",
       "         [1.53406756, 1.12322958, 0.35990365, 0.03961654]]), 13: array([[5.63392509, 4.38063418, 2.35140646, 7.7190807 ],\n",
       "         [7.517803  , 5.46038846, 3.06875987, 4.25278571]])},\n",
       " '_sh': <module 'IPython.core.shadowns' from '/anaconda2/lib/python2.7/site-packages/IPython/core/shadowns.pyc'>,\n",
       " 'a': array([[0.56339251, 0.43806342, 0.23514065, 0.77190807],\n",
       "        [0.7517803 , 0.54603885, 0.30687599, 0.42527857]]),\n",
       " 'exit': <IPython.core.autocall.ZMQExitAutocall at 0x10232e610>,\n",
       " 'get_ipython': <bound method ZMQInteractiveShell.get_ipython of <ipykernel.zmqshell.ZMQInteractiveShell object at 0x1021acfd0>>,\n",
       " 'np': <module 'numpy' from '/anaconda2/lib/python2.7/site-packages/numpy/__init__.pyc'>,\n",
       " 'quit': <IPython.core.autocall.ZMQExitAutocall at 0x10232e610>,\n",
       " 'x': array([[0. , 0.2, 0.4],\n",
       "        [0.6, 0.8, 1. ]])}"
      ]
     },
     "execution_count": 16,
     "metadata": {},
     "output_type": "execute_result"
    }
   ],
   "source": [
    "locals()"
   ]
  },
  {
   "cell_type": "code",
   "execution_count": 17,
   "metadata": {},
   "outputs": [],
   "source": [
    "a = np.arange(50)"
   ]
  },
  {
   "cell_type": "code",
   "execution_count": 18,
   "metadata": {},
   "outputs": [
    {
     "data": {
      "text/plain": [
       "array([ 0,  1,  2,  3,  4,  5,  6,  7,  8,  9, 10, 11, 12, 13, 14, 15, 16,\n",
       "       17, 18, 19, 20, 21, 22, 23, 24, 25, 26, 27, 28, 29, 30, 31, 32, 33,\n",
       "       34, 35, 36, 37, 38, 39, 40, 41, 42, 43, 44, 45, 46, 47, 48, 49])"
      ]
     },
     "execution_count": 18,
     "metadata": {},
     "output_type": "execute_result"
    }
   ],
   "source": [
    "a"
   ]
  },
  {
   "cell_type": "code",
   "execution_count": 22,
   "metadata": {},
   "outputs": [
    {
     "data": {
      "text/plain": [
       "array([ 0,  1,  2,  3,  4,  5,  6,  7,  8,  9, 10, 11, 12, 13, 14, 15, 16,\n",
       "       17, 18, 19, 20, 21, 22, 23, 24, 25, 26, 27, 28, 29, 30, 31, 32, 33,\n",
       "       34, 35, 36, 37, 38, 39, 40, 41, 42, 43, 44, 45, 46, 47, 48, 49])"
      ]
     },
     "execution_count": 22,
     "metadata": {},
     "output_type": "execute_result"
    }
   ],
   "source": [
    "a[0::]"
   ]
  },
  {
   "cell_type": "code",
   "execution_count": 23,
   "metadata": {},
   "outputs": [],
   "source": [
    "x = []\n",
    "for value in a:\n",
    "    if value <= 10:\n",
    "        x.append(value)"
   ]
  },
  {
   "cell_type": "code",
   "execution_count": 24,
   "metadata": {},
   "outputs": [
    {
     "data": {
      "text/plain": [
       "[0, 1, 2, 3, 4, 5, 6, 7, 8, 9, 10]"
      ]
     },
     "execution_count": 24,
     "metadata": {},
     "output_type": "execute_result"
    }
   ],
   "source": [
    "x"
   ]
  },
  {
   "cell_type": "code",
   "execution_count": 26,
   "metadata": {},
   "outputs": [
    {
     "data": {
      "text/plain": [
       "array([  0,   4,   8,  12,  16,  20,  24,  28,  32,  36,  40,  44,  48,\n",
       "        52,  56,  60,  64,  68,  72,  76,  80,  84,  88,  92,  96, 100,\n",
       "       104, 108, 112, 116, 120, 124, 128, 132, 136, 140, 144, 148, 152,\n",
       "       156, 160, 164, 168, 172, 176, 180, 184, 188, 192, 196])"
      ]
     },
     "execution_count": 26,
     "metadata": {},
     "output_type": "execute_result"
    }
   ],
   "source": [
    "a*4"
   ]
  },
  {
   "cell_type": "code",
   "execution_count": 27,
   "metadata": {},
   "outputs": [
    {
     "data": {
      "text/plain": [
       "array([ 0.        ,  1.34482759,  2.68965517,  4.03448276,  5.37931034,\n",
       "        6.72413793,  8.06896552,  9.4137931 , 10.75862069, 12.10344828,\n",
       "       13.44827586, 14.79310345, 16.13793103, 17.48275862, 18.82758621,\n",
       "       20.17241379, 21.51724138, 22.86206897, 24.20689655, 25.55172414,\n",
       "       26.89655172, 28.24137931, 29.5862069 , 30.93103448, 32.27586207,\n",
       "       33.62068966, 34.96551724, 36.31034483, 37.65517241, 39.        ,\n",
       "       40.34482759, 41.68965517, 43.03448276, 44.37931034, 45.72413793,\n",
       "       47.06896552, 48.4137931 , 49.75862069, 51.10344828, 52.44827586,\n",
       "       53.79310345, 55.13793103, 56.48275862, 57.82758621, 59.17241379,\n",
       "       60.51724138, 61.86206897, 63.20689655, 64.55172414, 65.89655172])"
      ]
     },
     "execution_count": 27,
     "metadata": {},
     "output_type": "execute_result"
    }
   ],
   "source": [
    "a+a/2.9"
   ]
  },
  {
   "cell_type": "code",
   "execution_count": 34,
   "metadata": {},
   "outputs": [
    {
     "data": {
      "text/plain": [
       "array([[0.14112787, 0.49185129, 0.07601664],\n",
       "       [0.49604438, 0.10401291, 0.64314071],\n",
       "       [0.25153263, 0.86001171, 0.61720136]])"
      ]
     },
     "execution_count": 34,
     "metadata": {},
     "output_type": "execute_result"
    }
   ],
   "source": [
    "x = np.random.rand(3,3)\n",
    "x"
   ]
  },
  {
   "cell_type": "code",
   "execution_count": 35,
   "metadata": {},
   "outputs": [
    {
     "data": {
      "text/plain": [
       "array([0.25153263, 0.86001171, 0.61720136])"
      ]
     },
     "execution_count": 35,
     "metadata": {},
     "output_type": "execute_result"
    }
   ],
   "source": [
    "x[2,:]"
   ]
  },
  {
   "cell_type": "code",
   "execution_count": 36,
   "metadata": {},
   "outputs": [
    {
     "data": {
      "text/plain": [
       "array([0.49185129, 0.10401291, 0.86001171])"
      ]
     },
     "execution_count": 36,
     "metadata": {},
     "output_type": "execute_result"
    }
   ],
   "source": [
    "x[:,1]"
   ]
  },
  {
   "cell_type": "code",
   "execution_count": null,
   "metadata": {},
   "outputs": [],
   "source": []
  }
 ],
 "metadata": {
  "kernelspec": {
   "display_name": "Python 2",
   "language": "python",
   "name": "python2"
  },
  "language_info": {
   "codemirror_mode": {
    "name": "ipython",
    "version": 2
   },
   "file_extension": ".py",
   "mimetype": "text/x-python",
   "name": "python",
   "nbconvert_exporter": "python",
   "pygments_lexer": "ipython2",
   "version": "2.7.15"
  }
 },
 "nbformat": 4,
 "nbformat_minor": 2
}
