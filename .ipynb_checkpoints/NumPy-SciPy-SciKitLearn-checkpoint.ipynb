{
 "cells": [
  {
   "cell_type": "markdown",
   "metadata": {},
   "source": [
    "# NumPy"
   ]
  },
  {
   "cell_type": "markdown",
   "metadata": {},
   "source": [
    "### Chapter 2: Numpy"
   ]
  },
  {
   "cell_type": "code",
   "execution_count": 112,
   "metadata": {},
   "outputs": [],
   "source": [
    "# focus on lists and dictionaries as they are most frequently used datatypes. \n",
    "# NumPy utilizes \"ndarray\" object, limitation it can handle only kind of data\n",
    "# %timeit"
   ]
  },
  {
   "cell_type": "code",
   "execution_count": 114,
   "metadata": {},
   "outputs": [],
   "source": [
    "import numpy as np\n",
    "import timeit\n",
    "import numpy.random as rand\n",
    "import matplotlib.pyplot as mpl\n",
    "\n",
    "from scipy.optimize import curve_fit, fsolve\n",
    "from scipy.interpolate import interp1d, UnivariateSpline, griddata\n",
    "from scipy.interpolate import SmoothBivariateSpline as SBS\n",
    "from scipy.integrate import quad, trapz"
   ]
  },
  {
   "cell_type": "code",
   "execution_count": 65,
   "metadata": {},
   "outputs": [
    {
     "name": "stdout",
     "output_type": "stream",
     "text": [
      "100 loops, best of 3: 15.4 ms per loop\n",
      "1 loop, best of 3: 2.17 s per loop\n"
     ]
    }
   ],
   "source": [
    "# create an array with 10^7 elements\n",
    "arr = np.arange(1e7)\n",
    "\n",
    "# converting ndarray to list\n",
    "larr = arr.tolist()\n",
    "\n",
    "# Lists by default can't boradcast so a function is coded to emulate what an ndarray can do\n",
    "def list_times(alist, scalar):\n",
    "    for i, val in enumerate(alist):\n",
    "        alist[i] = val *scalar\n",
    "    return alist\n",
    "\n",
    "# Using Python's %timeit to \n",
    "%timeit arr * 1.1\n",
    "\n",
    "# using def\n",
    "%timeit list_times(larr, 1.1)"
   ]
  },
  {
   "cell_type": "code",
   "execution_count": 17,
   "metadata": {},
   "outputs": [
    {
     "name": "stdout",
     "output_type": "stream",
     "text": [
      "Error: shape too large to be a matrix.\n"
     ]
    }
   ],
   "source": [
    "# Create a 3D numpy array\n",
    "arr = np.zeros((3,3,3))\n",
    "\n",
    "# Trying to convert an array to matrix but it would fail\n",
    "try:\n",
    "    mat = np.matrix(arr)\n",
    "except ValueError as e:\n",
    "    print('Error: '+str(e))"
   ]
  },
  {
   "cell_type": "code",
   "execution_count": 38,
   "metadata": {},
   "outputs": [
    {
     "data": {
      "text/plain": [
       "(10000,)"
      ]
     },
     "execution_count": 38,
     "metadata": {},
     "output_type": "execute_result"
    }
   ],
   "source": [
    "#Array creation and data typing\n",
    "#Create a list then wrap it as np array\n",
    "alist = [1,2,3]\n",
    "arr = np.array(list)\n",
    "\n",
    "#Create an array with np elements\n",
    "arr = np.zeros(5)\n",
    "\n",
    "#Create and array going from 0 to 100\n",
    "arr = np.zeros(100)\n",
    "\n",
    "# or array from 10 to 100\n",
    "arr = np.arange(10,100)\n",
    "\n",
    "# 100 steps from 0 to 1\n",
    "arr = np.linspace(0,1,100)\n",
    "\n",
    "# logspace\n",
    "arr = np.logspace(0,1,100, base = 10.0)\n",
    "\n",
    "# Create an 5 X 5 array of zeros\n",
    "arr = np.zeros((5,5))\n",
    "\n",
    "# create a 5X5X5 cube of 1's\n",
    "cube = np.zeros((5,5,5)).astype(int) + 1\n",
    "cube = np.ones((5,5,5)).astype(np.float16)\n",
    "\n",
    "# Array of zero integers\n",
    "arr = np.zeros(2, dtype = int)\n",
    "#Array of zero floats\n",
    "arr = np.zeros(2, dtype = np.float32)\n",
    "\n",
    "#Creating an array with elements from 0 to 999\n",
    "arr1d = np.arange(1000)\n",
    "\n",
    "#Now reshaping the array\n",
    "arr3d = arr1d.reshape((10,10,10))\n",
    "\n",
    "#or\n",
    "arr3d = np.reshape(arr1d, (10,10,10))\n",
    "\n",
    "#Inversely we can flatten arrays\n",
    "arr4d = np.zeros((10,10,10,10))\n",
    "arr1d = arr4d.ravel() #flattening the array'"
   ]
  },
  {
   "cell_type": "code",
   "execution_count": 46,
   "metadata": {},
   "outputs": [
    {
     "data": {
      "text/plain": [
       "array([1, 2], dtype=int32)"
      ]
     },
     "execution_count": 46,
     "metadata": {},
     "output_type": "execute_result"
    }
   ],
   "source": [
    "# Record Arrays\n",
    "# rec arrays\n",
    "recarr = np.zeros((2,), dtype =('i4,f4,a10'))\n",
    "\n",
    "col1 = np.arange(2) + 1\n",
    "col2 = np.arange(2, dtype =np.float32)\n",
    "col3 = ['Hello', 'World']\n",
    "\n",
    "# Here we create a list of tuples that is identical to previous add to list\n",
    "toadd = zip(col1, col2, col3)\n",
    "\n",
    "#assigning values to recarr\n",
    "recarr[:] =  toadd\n",
    "\n",
    "recarr\n",
    "\n",
    "#assigning names to each column which are now by default called  'fo', 'f1', 'f2'\n",
    "recarr.dtype.names = ('Integers','Floats', 'Strings')\n",
    "\n",
    "recarr['Integers']"
   ]
  },
  {
   "cell_type": "code",
   "execution_count": 61,
   "metadata": {},
   "outputs": [
    {
     "name": "stdout",
     "output_type": "stream",
     "text": [
      "(array([3, 4]),)\n",
      "[False False False  True  True]\n"
     ]
    },
    {
     "data": {
      "text/plain": [
       "array([ True,  True,  True, False, False])"
      ]
     },
     "execution_count": 61,
     "metadata": {},
     "output_type": "execute_result"
    }
   ],
   "source": [
    "## Indexing and slicing\n",
    "alist = [[1,2],[3,4]]\n",
    "alist[0][1]\n",
    "\n",
    "#Converting the list defined above into an array\n",
    "arr = np.array(alist)\n",
    "\n",
    "#To return (0,1) element we use...\n",
    "arr[0,1]\n",
    "\n",
    "#Now to access last column\n",
    "arr[:,1]\n",
    "\n",
    "#Accessing bottom row\n",
    "arr[1,:]\n",
    "\n",
    "#Creating an array\n",
    "arr = np.arange(5)\n",
    "\n",
    "#Creating the index array\n",
    "index = np.where(arr > 2)\n",
    "print(index)\n",
    "\n",
    "#Creating the indexarray\n",
    "new_arr =  arr[index]\n",
    "\n",
    "# remove/delete\n",
    "new_arr = np.delete(arr, index)\n",
    "\n",
    "index = arr > 2\n",
    "print(index)\n",
    "new_arr = arr[index]\n",
    "\n",
    "~ index ## inverts the array"
   ]
  },
  {
   "cell_type": "code",
   "execution_count": 64,
   "metadata": {},
   "outputs": [],
   "source": [
    "#Creating an image\n",
    "img1 = np.zeros((20,20)) + 3\n",
    "img1[4:-4,4:-4] = 6\n",
    "img1[7:-7,7:-7] = 9\n",
    "\n",
    "#filter out all values larger than 2 and less than 6\n",
    "index1 = img1 > 2\n",
    "index2 = img1 < 6\n",
    "compound_index = index1 & index2\n",
    "\n",
    "# The compound statement can alternatively be written as\n",
    "compound_index = (img1 > 3) & (img1 < 7)\n",
    "img2 = np.copy(img1)\n",
    "img2[compound_index] = 0\n",
    "\n",
    "#Making boolean arrays even more complex\n",
    "index3 = img1 == 9\n",
    "index4 = (index1 & index2) | index3\n",
    "img3 = np.copy(img1)\n",
    "img3[index4] = 0"
   ]
  },
  {
   "cell_type": "code",
   "execution_count": 66,
   "metadata": {},
   "outputs": [],
   "source": [
    "#Creating a 100-element array with random values from a standard nromal ditbn or a gaussian distrbn \n",
    "#sigma is 1 and mean 0\n",
    "a = rand.randn(100)\n",
    "\n",
    "index = a > 0.2\n",
    "b = a[index]\n",
    "\n",
    "b = b ** 2 - 2\n",
    "\n",
    "a[index]  =b"
   ]
  },
  {
   "cell_type": "code",
   "execution_count": 69,
   "metadata": {},
   "outputs": [
    {
     "data": {
      "text/plain": [
       "matrix([[1.75],\n",
       "        [1.75],\n",
       "        [0.75]])"
      ]
     },
     "execution_count": 69,
     "metadata": {},
     "output_type": "execute_result"
    }
   ],
   "source": [
    "coeffs = np.array([[3,6,-5],[1,-3,2],[5,-1,4]])\n",
    "values = np.array([[12] ,[-2], [10]])\n",
    "\n",
    "coeff_mat = np.matrix(coeffs)\n",
    "valu_mat = np.matrix(values)\n",
    "coeff_matI = coeff_mat.getI()\n",
    "ans = np.dot(coeff_matI,valu_mat)\n",
    "ans"
   ]
  },
  {
   "cell_type": "code",
   "execution_count": 74,
   "metadata": {},
   "outputs": [
    {
     "name": "stdout",
     "output_type": "stream",
     "text": [
      "[1.75 1.75 0.75]\n"
     ]
    }
   ],
   "source": [
    "a= np.array([[3,6,-5],[1,-3,2],[5,-1,4]])\n",
    "b = np.array([12 ,-2, 10])\n",
    "#b= np.array([[12] ,[-2], [10]])\n",
    "\n",
    "#Solving the variables\n",
    "x = np.linalg.inv(a).dot(b) ##<<-----------------optimiized format \n",
    "print(x)\n"
   ]
  },
  {
   "cell_type": "markdown",
   "metadata": {},
   "source": [
    "# SciPy"
   ]
  },
  {
   "cell_type": "markdown",
   "metadata": {},
   "source": [
    "## Chapter 3: SciPy"
   ]
  },
  {
   "cell_type": "code",
   "execution_count": 77,
   "metadata": {},
   "outputs": [],
   "source": [
    "# Page 17 - 41"
   ]
  },
  {
   "cell_type": "code",
   "execution_count": 79,
   "metadata": {},
   "outputs": [
    {
     "name": "stdout",
     "output_type": "stream",
     "text": [
      "[1.00036591 2.13609223]\n"
     ]
    }
   ],
   "source": [
    "#Data Modelling and Fitting\n",
    "\n",
    "\n",
    "#Creating a function to model and create data\n",
    "def func(x,a,b):\n",
    "    return a*x + b\n",
    "\n",
    "#Generating a clean data\n",
    "x = np.linspace(0,10,100)\n",
    "y = func(x,1,2)\n",
    "\n",
    "#Adding noise to the data\n",
    "yn = y + 0.9*np.random.normal(size= len(x))\n",
    "\n",
    "#Executing the curve fit of noisy data\n",
    "popt, pcov = curve_fit(func, x, yn)\n",
    "\n",
    "#popt retunrs the best fit values for parameters of the given model (func)\n",
    "print(popt)"
   ]
  },
  {
   "cell_type": "code",
   "execution_count": 81,
   "metadata": {},
   "outputs": [
    {
     "name": "stdout",
     "output_type": "stream",
     "text": [
      "[ 0.93310008  4.9415898  -2.0920192 ]\n"
     ]
    }
   ],
   "source": [
    "#Gaussian progile, a non-linear function\n",
    "def func(x,a,b,c):\n",
    "    return a*np.exp(-(x-b)**2/(2*c**2))\n",
    "\n",
    "#Generating clean data\n",
    "x = np.linspace(0,10,100)\n",
    "y = func(x,1,5,2)\n",
    "\n",
    "#Adding noise to the data\n",
    "yn = y+0.2*np.random.normal(size = len(x))\n",
    "\n",
    "#Executing the curve fit of noisy data\n",
    "popt, pcov = curve_fit(func, x, yn)\n",
    "\n",
    "#popt retunrs the best fit values for parameters of the given model (func)\n",
    "print(popt)"
   ]
  },
  {
   "cell_type": "code",
   "execution_count": 83,
   "metadata": {},
   "outputs": [
    {
     "name": "stdout",
     "output_type": "stream",
     "text": [
      "[ 0.94940844  3.00737502  0.93981402 -2.01042533 15.00001945  0.49105706]\n"
     ]
    }
   ],
   "source": [
    "#Two Gaussian model\n",
    "def func(x,a0,b0,c0,a1,b1,c1):\n",
    "    return a0*np.exp(-(x-b0)**2/(2*c0**2))\\\n",
    "                + a1*np.exp(-(x-b1)**2/(2*c1**2))\\\n",
    "\n",
    "#Generating clean data\n",
    "x = np.linspace(0,20,200)\n",
    "y = func(x,1,3,1,-2,15,0.5)\n",
    "\n",
    "#Adding noise to the data\n",
    "yn = y+0.2*np.random.normal(size = len(x))\n",
    "\n",
    "#Since we are fitting a more complex function, providing guesses for the fitting will lead to better results\n",
    "guesses = [1,3,1,1,15,1]\n",
    "\n",
    "#Executing curve_fit on noisy data\n",
    "popt, pcov = curve_fit(func, x, yn, p0 = guesses)\n",
    "\n",
    "print(popt)"
   ]
  },
  {
   "cell_type": "code",
   "execution_count": 86,
   "metadata": {},
   "outputs": [
    {
     "name": "stdout",
     "output_type": "stream",
     "text": [
      "(array([13.40773078, 18.11366128, 31.78330863, 37.0799992 , 39.84837786,\n",
      "       43.8258775 ]), array([-0.36592269, -0.31886339, -0.18216691, -0.12920001, -0.10151622,\n",
      "       -0.06174122]))\n"
     ]
    }
   ],
   "source": [
    "#Defining function to simplify intersection solution\n",
    "def findIntersection(func1, func2, x0):\n",
    "    return fsolve(lambda x: func1(x) - func2(x),  x0)\n",
    "\n",
    "#Defining functions that will intersect\n",
    "funky = lambda x : np.cos(x/5) * np.sin(x/2)\n",
    "line = lambda x : 0.01 * x  - 0.5\n",
    "\n",
    "#Defining range and getting solutions on intersection points\n",
    "x = np.linspace(0,45,10000)\n",
    "result = findIntersection(funky, line, [15,20,30,35,40,45])\n",
    "\n",
    "#Printing out results\n",
    "print(result, line(result))"
   ]
  },
  {
   "cell_type": "code",
   "execution_count": 95,
   "metadata": {},
   "outputs": [],
   "source": [
    "#Interpolation\n",
    "#Setting up fake data\n",
    "x = np.linspace(0,10 * np.pi, 20)\n",
    "y = np.cos(x)\n",
    "\n",
    "#Interploating data\n",
    "f1 = interp1d(x, y, kind = 'linear')\n",
    "fq = interp1d(x, y, kind = 'quadratic')\n",
    "\n",
    "#x.mean and x.max are used to make sure we do not go beyond the boundaties of the data for the interpolation\n",
    "xint = np.linspace(x.min(), x.max(), 1000)\n",
    "yintl = f1(xint)\n",
    "yintq = fq(xint)"
   ]
  },
  {
   "cell_type": "code",
   "execution_count": 99,
   "metadata": {},
   "outputs": [],
   "source": [
    "sample = 30\n",
    "x = np.linspace(1,10*np.pi,sample)\n",
    "y = np.cos(x) + np.log10(x) + np.random.randn(sample)/10\n",
    "\n",
    "#Interpolating the data\n",
    "f = UnivariateSpline(x, y, s = 1)\n",
    "\n",
    "#x.in and x.max are used to make sure we do not go beyond the boundaries of the data for the interpolation\n",
    "xint = np.linspace(x.min(), x.max(), 1000)\n",
    "yint = f(xint)"
   ]
  },
  {
   "cell_type": "code",
   "execution_count": 101,
   "metadata": {},
   "outputs": [],
   "source": [
    "ripple = lambda x,y: np.sqrt(x**2 + y**2) + np.sin(x**2 + y**2)\n",
    "\n",
    "#Generating griddled data \n",
    "grid_x, grid_y = np.mgrid[0:5:1000j, 0:5:100j]\n",
    "\n",
    "#Generating sample that interpolation function will see\n",
    "xy = np.random.rand(1000,2)\n",
    "sample = ripple(xy[:,0]*5, xy[:,1]*5)\n",
    "\n",
    "#Interpolating data with a cubic\n",
    "grid_z0 = griddata(xy*5, sample, (grid_x, grid_y), method = 'cubic')"
   ]
  },
  {
   "cell_type": "code",
   "execution_count": 110,
   "metadata": {},
   "outputs": [],
   "source": [
    "x, y = xy[:,0], xy[:,1]\n",
    "sample = ripple(xy[:,0]*5, xy[:,1]*5)\n",
    "\n",
    "#Interpolating the same data generted above using SBS\n",
    "fit = SBS(x * 5, y * 5, sample, s = 0.01, kx =4, ky=4)\n",
    "interp = fit(np.linspace(0,5,1000), np.linspace(0,5,1000))"
   ]
  },
  {
   "cell_type": "code",
   "execution_count": 113,
   "metadata": {},
   "outputs": [
    {
     "name": "stdout",
     "output_type": "stream",
     "text": [
      "(1.296467785724373, 1.397797186265988e-09)\n"
     ]
    }
   ],
   "source": [
    "#Integration\n",
    "# Analytic Integration\n",
    "func = lambda x: np.cos(np.exp(x)) **2\n",
    "\n",
    "#Integrating function with upper and lower solution\n",
    "solution = quad(func, 0, 3)\n",
    "print(solution)"
   ]
  },
  {
   "cell_type": "code",
   "execution_count": 116,
   "metadata": {},
   "outputs": [
    {
     "name": "stdout",
     "output_type": "stream",
     "text": [
      "fsolution = 5.10034506754\n",
      "dsolution =5.123634536204721\n",
      "The difference is 0.02328946866378878\n"
     ]
    }
   ],
   "source": [
    "# Numerical Integration\n",
    "x = np.sort(np.random.randn(150) * 4 + 4).clip(0,5)\n",
    "func = lambda x: np.sin(x)* np.cos(x**2) + 1\n",
    "y = func(x)\n",
    "\n",
    "#Integrating the function with upper and lower limits of 0 and 5 respectively\n",
    "fsolution = quad(func, 0, 5)\n",
    "dsolution = trapz(y, x = x)\n",
    "print('fsolution = ' + str(fsolution[0]))\n",
    "print('dsolution =' + str(dsolution))\n",
    "print('The difference is '+ str(np.abs(fsolution[0] - dsolution)))"
   ]
  },
  {
   "cell_type": "code",
   "execution_count": 117,
   "metadata": {},
   "outputs": [],
   "source": [
    "#Statistics: <continue from page 28>"
   ]
  }
 ],
 "metadata": {
  "kernelspec": {
   "display_name": "Python 2",
   "language": "python",
   "name": "python2"
  },
  "language_info": {
   "codemirror_mode": {
    "name": "ipython",
    "version": 2
   },
   "file_extension": ".py",
   "mimetype": "text/x-python",
   "name": "python",
   "nbconvert_exporter": "python",
   "pygments_lexer": "ipython2",
   "version": "2.7.15"
  }
 },
 "nbformat": 4,
 "nbformat_minor": 2
}
